{
 "cells": [
  {
   "cell_type": "markdown",
   "metadata": {},
   "source": [
    "Let us import the necessary libraries in python and load the data files\n"
   ]
  },
  {
   "cell_type": "code",
   "execution_count": 1,
   "metadata": {},
   "outputs": [],
   "source": [
    "import pandas as pd\n",
    "import numpy as np\n",
    "import matplotlib.pyplot as plt\n",
    "%matplotlib inline"
   ]
  },
  {
   "cell_type": "markdown",
   "metadata": {},
   "source": [
    "Pandas is the library used to load the data."
   ]
  },
  {
   "cell_type": "code",
   "execution_count": 2,
   "metadata": {},
   "outputs": [
    {
     "name": "stdout",
     "output_type": "stream",
     "text": [
      "(2000, 5)\n",
      "          A         B         C         D  Class\n",
      "0 -1.202659  0.324662  0.741053 -1.583113      1\n",
      "1 -3.671058 -1.291171 -1.638048 -1.272242      0\n",
      "2 -0.785138  4.033208  0.621245 -4.928067      1\n",
      "3  1.196428  0.991209  0.633605 -0.075649      1\n",
      "4  1.195653  3.383962 -1.419071 -2.386325      0\n",
      "                 A            B            C            D        Class\n",
      "count  2000.000000  2000.000000  2000.000000  2000.000000  2000.000000\n",
      "mean     -0.413139     1.543104     0.516940    -1.968688     0.500000\n",
      "std       2.599385     2.034578     2.003351     1.559799     0.500125\n",
      "min      -7.559413    -2.991272    -6.159370    -7.221440     0.000000\n",
      "25%      -2.332368     0.044645    -0.839830    -3.118997     0.000000\n",
      "50%      -0.406626     1.334586     0.704911    -1.986789     0.500000\n",
      "75%       1.445181     2.902694     2.040135    -0.841876     1.000000\n",
      "max       6.002363     8.282555     5.867292     2.675309     1.000000\n"
     ]
    }
   ],
   "source": [
    "data=pd.read_csv('./data/*.csv')\n",
    "print(data.shape)\n",
    "print(data.head())\n",
    "print(data.describe())"
   ]
  },
  {
   "cell_type": "markdown",
   "metadata": {},
   "source": [
    "The data is split into train, test and validation data. This is done using scikit learn library. The data frame is also converted into numpy array"
   ]
  },
  {
   "cell_type": "code",
   "execution_count": 3,
   "metadata": {},
   "outputs": [
    {
     "name": "stdout",
     "output_type": "stream",
     "text": [
      "(1800, 4) (100, 4) (100, 4) (1800,) (100,) (100,)\n"
     ]
    }
   ],
   "source": [
    "from sklearn.model_selection import train_test_split\n",
    "\n",
    "x_train, x_val, y_train, y_val = train_test_split(data.iloc[:,:4],data.iloc[:,-1] , test_size=200)\n",
    "\n",
    "x_val,x_test, y_val, y_test = train_test_split(x_val,y_val , test_size=100)\n",
    "\n",
    "\n",
    "\n",
    "x_train=np.array(x_train)\n",
    "y_train=np.array(y_train)\n",
    "\n",
    "x_val=np.array(x_val)\n",
    "y_val=np.array(y_val)\n",
    "\n",
    "x_test=np.array(x_test)\n",
    "y_test=np.array(y_test)\n",
    "print(x_train.shape,x_val.shape,x_test.shape,y_train.shape,y_val.shape,y_test.shape)\n"
   ]
  },
  {
   "cell_type": "markdown",
   "metadata": {},
   "source": [
    "\n",
    "\n",
    "Before going to the actual code let us consider some theoretical understanding of the Logistic regression model.\n"
   ]
  },
  {
   "cell_type": "markdown",
   "metadata": {},
   "source": [
    "# Logistic Regression\n",
    "\n",
    "Logistc regression is a classification algorithm. The probability P(Y|X) is the posterior probability which can be approximated using a sigmoid function on the linear combination of the input variables. For a single datapoint,\n",
    "\n",
    "$$P(Y=y|X=x)= {\\sigma(\\theta^T x)}^y \\cdot {[1-\\sigma(\\theta^T x)]}^{(1-y)}$$.\n",
    "\n",
    "Assuming all data points are independent. We can write the likelihood as,\n",
    "\n",
    "$$ {\\cal{L}} (\\theta) = \\prod_{i}^{n} P(Y=y_i|X=x_i) $$\n",
    "$$\\hspace{3cm}  =  \\prod_{i}^{n}  {\\sigma(\\theta^T x_i)}^{y_i} \\cdot {[1-\\sigma(\\theta^T x_i)]}^{(1-y_i)}$$.\n",
    "\n",
    "\n",
    "Taking the logarithm of the likelihood we obtain,\n",
    "$${\\cal{LL}} (\\theta)=\\sum_{i}^n y_i \\log \\sigma(\\theta^Tx_i) + (1-y_i)\\log (1-\\sigma(\\theta^T x_i))$$.\n",
    "\n",
    "\n",
    "The cost function of the Logistic regression classifier is derived from the above formula,\n",
    "\n",
    "$$J(\\theta)= -\\dfrac{1}{n}\\big{[}\\sum_{i}^n y_i \\log \\sigma(\\theta^Tx_i) + (1-y_i)\\log (1-\\sigma(\\theta^T x_i))\\big{]}$$.\n",
    "\n",
    "We want to minimize the cost function using the algorithm,\n",
    "\n",
    " Repeat until convergence,\n",
    "\n",
    "$$ \\theta_j := \\theta_j - \\alpha \\dfrac{\\partial J(\\theta)}{\\partial \\theta_j}$$\n",
    "\n",
    "\n",
    "This gradient descent algorithm is made more efficient by randomly choosing samples from the training dataset to optimize the cost function other than using the entire training dataset.\n",
    "\n",
    "\n",
    "Inorder to avoid overfitting, we add regularization parameter to the cost function,\n",
    "\n",
    "$$J(\\theta)= -\\dfrac{1}{n}\\big{[}\\sum_{i}^n y_i \\log \\sigma(\\theta^Tx_i) + (1-y_i)\\log (1-\\sigma(\\theta^T x_i))\\big{]} + \\dfrac{\\lambda}{2n}\\sum_{j=1}^m \\theta_j^2$$.\n",
    "\n",
    "\n",
    "The gradient descent then changes to,\n",
    "\n",
    "Repeat until convergence,\n",
    "\n",
    "$$ \\theta_0 := \\theta_0 - \\alpha\\dfrac{\\partial J(\\theta)}{\\partial \\theta_0} $$\n",
    "\n",
    "$$ \\theta_j := \\theta_j - \\alpha \\big[\\dfrac{\\partial J(\\theta)}{\\partial \\theta_j} + \\dfrac{\\lambda}{m} \\theta_j\\big]$$\n",
    "\n"
   ]
  },
  {
   "cell_type": "code",
   "execution_count": 4,
   "metadata": {},
   "outputs": [],
   "source": [
    "import sys\n",
    "from sklearn.metrics import accuracy_score,confusion_matrix\n",
    "import re\n",
    "\n",
    "class StochasticLogisticRegression(object):\n",
    "    \n",
    "       ##\n",
    "    def __init__(self, dat_file):\n",
    "\n",
    "        # check valid path to dat file supplied\n",
    "        try:\n",
    "            assert re.match(\".*\\.csv\", dat_file)\n",
    "        except AssertionError:\n",
    "            print(\"Invalid (non .csv) file supplied\")\n",
    "            sys.exit(1)\n",
    "\n",
    "        # get root of file name from path\n",
    "        if re.match(\"\\w+\\.csv\", dat_file):\n",
    "            self.dat_file = \"./\" + dat_file\n",
    "\n",
    "        # parse .dat into formatted array\n",
    "        try:\n",
    "            self.data = pd.read_csv(dat_file)\n",
    "        except:\n",
    "            print(\"failed to read .csv file {} : invalid formatting?\".format(self.dat_file))\n",
    "            sys.exit(1)\n",
    "            \n",
    "            \n",
    "    def sigmoid(self,x):\n",
    "        \n",
    "        try :\n",
    "            sigmoid_output=1/(1+np.exp(-x))\n",
    "        except TypeError:\n",
    "            print( \"Invalid input type in sigmoid function. Please provide a numerical input\")\n",
    "            sys.exit(1)\n",
    "            \n",
    "        return sigmoid_output\n",
    "\n",
    "    \n",
    "    def cost(self,x,y,w,l):\n",
    "        \n",
    "        try:\n",
    "            assert x.shape[1]+1==w.shape[0]\n",
    "        except AssertionError:\n",
    "            print(\"Invalid shape\")\n",
    "            sys.exit(1)\n",
    "            \n",
    "            \n",
    "        z=np.dot(x,w[1:])+w[0] \n",
    "        \n",
    "        p_1=y*np.log(self.sigmoid(z)) \n",
    "        p_2=(1-y)*np.log(1-self.sigmoid(z))\n",
    "        rt=(l/(2*len(x))*sum((w[1:]**2)))\n",
    "        s=-sum(p_1+p_2)/len(x)\n",
    "        return (s)+rt         #The loss function -1/m[sum ylog(sigma(z))+(1-y)log(1-sigma(z))]+ lambda/2m sum theta^2\n",
    " \n",
    "    def acc(self,y,y_pred):\n",
    "        return(accuracy_score(y, np.around(y_pred)))\n",
    "\n",
    "    def fit(self,x_train, y_train,x_val,y_val,l,batch_size=1, epochs=50, lr=0.05):        \n",
    "        loss = []\n",
    "        val_loss=[]\n",
    "        accuracy=[]\n",
    "        val_acc=[]\n",
    "\n",
    "        # Random sample is drawn from a gaussian/normal distribution with mean 0 and 0.1 as standard deviation\n",
    "        # Here the weight matrix contains bias term as well which is given by the first element of the weight matrix.\n",
    "        \n",
    "        weights = np.random.normal(0,0.1,x_train.shape[1]+1)  \n",
    "        print(weights.shape)\n",
    "        N = len(x_train)\n",
    "\n",
    "\n",
    "        error=0\n",
    "        for i in range(epochs):    \n",
    "            \n",
    "            \"\"\"\n",
    "            For stochastic gradient descent we choose random samples from the training data inorder to evaluate the cost function\n",
    "            In standard stochastic gradient descent, the number of random sample is chosen as 1.\n",
    "            In mini batch stochastic gradient descent a batch of small numbers is used to evaluate the cost.\n",
    "                        \n",
    "            \"\"\"\n",
    "            \n",
    "            random_idx = np.random.choice(len(x_train), size=min(len(x_train), batch_size), replace = False)\n",
    "\n",
    "            #validation_idx=np.random.choice(len(x_val), size=min(len(x_val), batch_size), replace = False)\n",
    "           \n",
    "            y_hat = self.sigmoid(np.dot(x_train[random_idx], weights[1:])+weights[0]) #The output is caclulated\n",
    "            r=np.dot(l,weights[1:])#regularization\n",
    "            r[0]=0  #The zeroth term corresponds to the bias term\n",
    "\n",
    "            \"\"\"The weights are updated here using the gradient formula given above.\"\"\"\n",
    "            \n",
    "            \n",
    "            weights[0]-=lr*(np.dot(1,y_hat - y_train[random_idx]))\n",
    "            \n",
    "            weights[1:] -= lr *(np.dot(x_train[random_idx].T,  y_hat - y_train[random_idx]) +r)/len(x_train[random_idx])            \n",
    "            \n",
    "            \n",
    "            \n",
    "            loss.append(self.cost(x_train, y_train, weights,l)) # We save the loss for the weights in every epoch\n",
    "            val_loss.append(self.cost(x_val,y_val,weights,l))    \n",
    "            accuracy.append(self.acc(y_train,self.sigmoid(np.dot(x_train,weights[1:]))+weights[0])) # Accuracy is also saved in every epoch\n",
    "            val_acc.append(self.acc(y_val,self.sigmoid(np.dot(x_val,weights[1:]))+weights[0]))\n",
    "\n",
    "            self.weights=weights\n",
    "            self.loss=loss[i]\n",
    "            self.val_loss=val_loss[i]\n",
    "            self.accuracy=accuracy[i]\n",
    "            self.val_acc=val_acc[i]\n",
    "            \n",
    "        return{'acc':accuracy,'val_acc':val_acc,'loss':loss, 'val_loss':val_loss, 'weights':weights}\n",
    "\n",
    "    def predict(self,X):        \n",
    "            # Predicting with sigmoid function\n",
    "            z = np.dot(X, self.weights[1:])+self.weights[0]\n",
    "            # Returning binary result\n",
    "            return self.sigmoid(z)"
   ]
  },
  {
   "cell_type": "code",
   "execution_count": 5,
   "metadata": {},
   "outputs": [
    {
     "data": {
      "text/html": [
       "<div>\n",
       "<style scoped>\n",
       "    .dataframe tbody tr th:only-of-type {\n",
       "        vertical-align: middle;\n",
       "    }\n",
       "\n",
       "    .dataframe tbody tr th {\n",
       "        vertical-align: top;\n",
       "    }\n",
       "\n",
       "    .dataframe thead th {\n",
       "        text-align: right;\n",
       "    }\n",
       "</style>\n",
       "<table border=\"1\" class=\"dataframe\">\n",
       "  <thead>\n",
       "    <tr style=\"text-align: right;\">\n",
       "      <th></th>\n",
       "      <th>A</th>\n",
       "      <th>B</th>\n",
       "      <th>C</th>\n",
       "      <th>D</th>\n",
       "      <th>Class</th>\n",
       "    </tr>\n",
       "  </thead>\n",
       "  <tbody>\n",
       "    <tr>\n",
       "      <th>count</th>\n",
       "      <td>2000.000000</td>\n",
       "      <td>2000.000000</td>\n",
       "      <td>2000.000000</td>\n",
       "      <td>2000.000000</td>\n",
       "      <td>2000.000000</td>\n",
       "    </tr>\n",
       "    <tr>\n",
       "      <th>mean</th>\n",
       "      <td>-0.413139</td>\n",
       "      <td>1.543104</td>\n",
       "      <td>0.516940</td>\n",
       "      <td>-1.968688</td>\n",
       "      <td>0.500000</td>\n",
       "    </tr>\n",
       "    <tr>\n",
       "      <th>std</th>\n",
       "      <td>2.599385</td>\n",
       "      <td>2.034578</td>\n",
       "      <td>2.003351</td>\n",
       "      <td>1.559799</td>\n",
       "      <td>0.500125</td>\n",
       "    </tr>\n",
       "    <tr>\n",
       "      <th>min</th>\n",
       "      <td>-7.559413</td>\n",
       "      <td>-2.991272</td>\n",
       "      <td>-6.159370</td>\n",
       "      <td>-7.221440</td>\n",
       "      <td>0.000000</td>\n",
       "    </tr>\n",
       "    <tr>\n",
       "      <th>25%</th>\n",
       "      <td>-2.332368</td>\n",
       "      <td>0.044645</td>\n",
       "      <td>-0.839830</td>\n",
       "      <td>-3.118997</td>\n",
       "      <td>0.000000</td>\n",
       "    </tr>\n",
       "    <tr>\n",
       "      <th>50%</th>\n",
       "      <td>-0.406626</td>\n",
       "      <td>1.334586</td>\n",
       "      <td>0.704911</td>\n",
       "      <td>-1.986789</td>\n",
       "      <td>0.500000</td>\n",
       "    </tr>\n",
       "    <tr>\n",
       "      <th>75%</th>\n",
       "      <td>1.445181</td>\n",
       "      <td>2.902694</td>\n",
       "      <td>2.040135</td>\n",
       "      <td>-0.841876</td>\n",
       "      <td>1.000000</td>\n",
       "    </tr>\n",
       "    <tr>\n",
       "      <th>max</th>\n",
       "      <td>6.002363</td>\n",
       "      <td>8.282555</td>\n",
       "      <td>5.867292</td>\n",
       "      <td>2.675309</td>\n",
       "      <td>1.000000</td>\n",
       "    </tr>\n",
       "  </tbody>\n",
       "</table>\n",
       "</div>"
      ],
      "text/plain": [
       "                 A            B            C            D        Class\n",
       "count  2000.000000  2000.000000  2000.000000  2000.000000  2000.000000\n",
       "mean     -0.413139     1.543104     0.516940    -1.968688     0.500000\n",
       "std       2.599385     2.034578     2.003351     1.559799     0.500125\n",
       "min      -7.559413    -2.991272    -6.159370    -7.221440     0.000000\n",
       "25%      -2.332368     0.044645    -0.839830    -3.118997     0.000000\n",
       "50%      -0.406626     1.334586     0.704911    -1.986789     0.500000\n",
       "75%       1.445181     2.902694     2.040135    -0.841876     1.000000\n",
       "max       6.002363     8.282555     5.867292     2.675309     1.000000"
      ]
     },
     "execution_count": 5,
     "metadata": {},
     "output_type": "execute_result"
    }
   ],
   "source": [
    "# The model class is called here.\n",
    "dat_file='./data/RDS-DL_take_home_task_data.csv'\n",
    "\n",
    "model=StochasticLogisticRegression(dat_file)\n",
    "model.data.describe()"
   ]
  },
  {
   "cell_type": "code",
   "execution_count": 6,
   "metadata": {},
   "outputs": [
    {
     "name": "stdout",
     "output_type": "stream",
     "text": [
      "(1800, 4) (100, 4) (100, 4) (1800,) (100,) (100,)\n"
     ]
    }
   ],
   "source": [
    "from sklearn.model_selection import train_test_split\n",
    "\n",
    "x_train, x_val, y_train, y_val = train_test_split(data.iloc[:,:4],data.iloc[:,-1] , test_size=200)\n",
    "\n",
    "x_val,x_test, y_val, y_test = train_test_split(x_val,y_val , test_size=100)\n",
    "\n",
    "x_train=np.array(x_train)\n",
    "y_train=np.array(y_train)\n",
    "\n",
    "x_val=np.array(x_val)\n",
    "y_val=np.array(y_val)\n",
    "\n",
    "x_test=np.array(x_test)\n",
    "y_test=np.array(y_test)\n",
    "print(x_train.shape,x_val.shape,x_test.shape,y_train.shape,y_val.shape,y_test.shape)\n"
   ]
  },
  {
   "cell_type": "code",
   "execution_count": 7,
   "metadata": {},
   "outputs": [
    {
     "name": "stdout",
     "output_type": "stream",
     "text": [
      "(5,)\n"
     ]
    },
    {
     "data": {
      "image/png": "[encoded data removed]",
      "text/plain": [
       "<Figure size 432x288 with 2 Axes>"
      ]
     },
     "metadata": {
      "needs_background": "light"
     },
     "output_type": "display_data"
    }
   ],
   "source": [
    "# We have given all the hyperparameters to the fit function.\n",
    "history=model.fit(x_train,y_train,x_val,y_val,l=1,batch_size=1,epochs=500,lr=0.01)\n",
    "\n",
    "# We can see how the performance of the model over the different iterations and \n",
    "# plot the loss and accuracy values at each epoch.\n",
    "\n",
    "fig, ax = plt.subplots(nrows=1, ncols=2)\n",
    "ax[0].plot(history['loss'])\n",
    "ax[0].plot(history['val_loss'])\n",
    "ax[0].set_ylabel('Loss',fontsize=14)\n",
    "ax[0].set_xlabel('Epochs',fontsize=14)\n",
    "ax[0].set_title('Loss curves',fontsize=14)\n",
    "\n",
    "\n",
    "ax[1].plot(history['acc'])\n",
    "ax[1].plot(history['val_acc'])\n",
    "ax[1].set_ylabel('Accuracy',fontsize=14)\n",
    "ax[1].set_xlabel('Epochs',fontsize=14)\n",
    "ax[1].set_title('Accuracy curves',fontsize=14)\n",
    "\n",
    "fig.tight_layout()\n",
    "\n",
    "p=model.predict(x_test)\n"
   ]
  },
  {
   "cell_type": "code",
   "execution_count": 8,
   "metadata": {},
   "outputs": [
    {
     "name": "stdout",
     "output_type": "stream",
     "text": [
      "100\n"
     ]
    },
    {
     "data": {
      "image/png": "[encoded data removed]",
      "text/plain": [
       "<Figure size 432x288 with 1 Axes>"
      ]
     },
     "metadata": {
      "needs_background": "light"
     },
     "output_type": "display_data"
    },
    {
     "name": "stdout",
     "output_type": "stream",
     "text": [
      "AUC:  0.8609775641025641\n"
     ]
    },
    {
     "data": {
      "text/plain": [
       "<matplotlib.legend.Legend at 0x7f79a18f4b20>"
      ]
     },
     "execution_count": 8,
     "metadata": {},
     "output_type": "execute_result"
    },
    {
     "data": {
      "image/png": "[encoded data removed]",
      "text/plain": [
       "<Figure size 432x288 with 1 Axes>"
      ]
     },
     "metadata": {
      "needs_background": "light"
     },
     "output_type": "display_data"
    }
   ],
   "source": [
    "# Similarly, we can plot the overall performance of the network at a classification threshold of 0.5.\n",
    "# In an ideal situation the histograms should be well separated creating a perfect classifier.\n",
    "\n",
    "\n",
    "signals = []\n",
    "backgrounds = []\n",
    "truth=[]\n",
    "print(len(y_test))\n",
    "for i in range(len(y_test)):\n",
    "    y = y_test[i]\n",
    "    if y ==1:\n",
    "        signals.append(p[i])\n",
    "        truth.append(1)\n",
    "    if y ==0:\n",
    "        backgrounds.append(p[i])\n",
    "        truth.append(0)\n",
    "        \n",
    "bins = np.linspace(-.05, 1.05, 15)\n",
    "\n",
    "\n",
    "plt.hist(signals, bins, alpha=0.4, label='signal')\n",
    "plt.hist(backgrounds,bins, alpha=0.4, label='background')\n",
    "plt.title('Network performance',fontsize=14)\n",
    "plt.legend(loc='upper right')\n",
    "plt.show()\n",
    "\n",
    "\n",
    "# Reciever-Operating-Characteristics can also be plotted from the classifier output.\n",
    "# ROC curve gives the true positive rates and false positive rates for different classificaiton threshold.\n",
    "# Area under the cure (AUC) is also a metric to calculate the performance.\n",
    "\n",
    "from sklearn.metrics import roc_curve,auc\n",
    "\n",
    "\n",
    "\n",
    "fprs, tprs, thresholds = roc_curve(y_test, p)\n",
    "\n",
    "aucs = auc(fprs,tprs)\n",
    "print (\"AUC: \",aucs)\n",
    "\n",
    "\n",
    "plt.plot([0, 1], [0, 1], '--', color='black')\n",
    "plt.xlim([-0.05, 1.05])\n",
    "plt.xlabel('False Positive Rate')\n",
    "plt.ylabel('True Positive Rate')\n",
    "\n",
    "plt.plot(fprs,tprs, color='darkorange',lw=2, label='ROC curve (area = %0.2f)'  %aucs)\n",
    "plt.grid(True)\n",
    "\n",
    "\n",
    "plt.legend(fontsize=10,loc=3)\n",
    "\n"
   ]
  },
  {
   "cell_type": "code",
   "execution_count": 9,
   "metadata": {},
   "outputs": [],
   "source": [
    "# We can save the model as a pickle file\n",
    "\n",
    "import pickle as pkl\n",
    "with open('./results/saved_model_notebook', 'wb') as file:  \n",
    "    pkl.dump(model, file)\n"
   ]
  },
  {
   "cell_type": "code",
   "execution_count": 10,
   "metadata": {},
   "outputs": [],
   "source": [
    "# The model is loaded and evaluated\n",
    "\n",
    "with open('./results/saved_model_notebook', 'rb') as file:  \n",
    "    saved_model = pkl.load(file)\n",
    "\n",
    "p=saved_model.predict(x_test)"
   ]
  },
  {
   "cell_type": "code",
   "execution_count": 11,
   "metadata": {},
   "outputs": [
    {
     "name": "stdout",
     "output_type": "stream",
     "text": [
      "Accuracy:  0.74\n",
      "Confusion Matrix: \n",
      " [[40 12]\n",
      " [14 34]]\n"
     ]
    }
   ],
   "source": [
    "from sklearn.metrics import accuracy_score,confusion_matrix\n",
    "print (\"Accuracy: \",accuracy_score(y_test, np.around(p)))\n",
    "print(\"Confusion Matrix: \\n\", confusion_matrix(y_test,np.around(p)))\n"
   ]
  },
  {
   "cell_type": "code",
   "execution_count": 12,
   "metadata": {},
   "outputs": [],
   "source": [
    "test_model=StochasticLogisticRegression(dat_file)\n",
    "def testSigmoid():\n",
    "        assert model.sigmoid(0)==0.5\n",
    "       # assert model.sigmoid(1)==0.73\n",
    "def testCost():\n",
    "        assert model.cost(x_train[:2,:],y_train[:2],np.array(np.zeros(5)),l=1)==0.693\n",
    "        \n"
   ]
  },
  {
   "cell_type": "markdown",
   "metadata": {},
   "source": [
    "# References\n",
    "\n",
    "\n",
    "The code is built after going through multiple reference materials\n",
    "\n",
    "1. https://www.ritchieng.com/logistic-regression/\n",
    "2. https://www.robots.ox.ac.uk/~az/lectures/ml/2011/lect4.pdf\n",
    "3. https://web.stanford.edu/class/archive/cs/cs109/cs109.1166/pdfs/40%20LogisticRegression.pdf\n",
    "4. https://towardsdatascience.com/logistic-regression-from-scratch-69db4f587e17\n",
    "5. https://towardsdatascience.com/implementing-sgd-from-scratch-d425db18a72c"
   ]
  }
 ],
 "metadata": {
  "kernelspec": {
   "display_name": "Python 3",
   "language": "python",
   "name": "python3"
  },
  "language_info": {
   "codemirror_mode": {
    "name": "ipython",
    "version": 3
   },
   "file_extension": ".py",
   "mimetype": "text/x-python",
   "name": "python",
   "nbconvert_exporter": "python",
   "pygments_lexer": "ipython3",
   "version": "3.8.3"
  }
 },
 "nbformat": 4,
 "nbformat_minor": 4
}
